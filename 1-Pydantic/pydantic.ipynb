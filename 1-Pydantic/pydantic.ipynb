{
 "cells": [
  {
   "cell_type": "markdown",
   "id": "60c4cd2c",
   "metadata": {},
   "source": [
    "# Pydantic Basics: Creating and Using Models\n",
    "\n",
    "Pydantic models are the foundation of data validation in Python. They use Python type annotations to define the structure and validate data at runtime.  Here's a detailed exploration of basic model creation with several examples."
   ]
  },
  {
   "cell_type": "code",
   "execution_count": 2,
   "id": "a14950a6",
   "metadata": {},
   "outputs": [],
   "source": [
    "from dataclasses import dataclass\n",
    "\n",
    "@dataclass\n",
    "class Person():\n",
    "    name: str\n",
    "    age: int\n",
    "    city: str\n"
   ]
  },
  {
   "cell_type": "code",
   "execution_count": 4,
   "id": "fdb6300d",
   "metadata": {},
   "outputs": [
    {
     "name": "stdout",
     "output_type": "stream",
     "text": [
      "Maxwell\n"
     ]
    }
   ],
   "source": [
    "person=Person(name='Maxwell', age=25, city=35)\n",
    "print(person.name)"
   ]
  },
  {
   "cell_type": "code",
   "execution_count": 7,
   "id": "550e0f03",
   "metadata": {},
   "outputs": [],
   "source": [
    "## Pydantic\n",
    "\n",
    "from pydantic import BaseModel"
   ]
  },
  {
   "cell_type": "code",
   "execution_count": 9,
   "id": "765ae363",
   "metadata": {},
   "outputs": [
    {
     "name": "stdout",
     "output_type": "stream",
     "text": [
      "name='Maxwell' age=25 city='St. Johns'\n"
     ]
    }
   ],
   "source": [
    "class Person1(BaseModel):\n",
    "    name: str\n",
    "    age: int\n",
    "    city: str\n",
    "\n",
    "person1=Person1(name='Maxwell', age=25, city='St. Johns')\n",
    "print(person1)"
   ]
  },
  {
   "cell_type": "markdown",
   "id": "457cdf9b",
   "metadata": {},
   "source": [
    "## 2. Model with Optional Fields\n",
    "\n",
    "Add option fields using Python's Optional type:"
   ]
  },
  {
   "cell_type": "code",
   "execution_count": 10,
   "id": "caf414ca",
   "metadata": {},
   "outputs": [],
   "source": [
    "from typing import Optional\n",
    "\n",
    "class Employee(BaseModel):\n",
    "    id: int\n",
    "    name: str\n",
    "    department: str\n",
    "    salary: Optional[float]=None #Optional with default value\n",
    "    is_active: Optional[bool]=True #optional with default value"
   ]
  },
  {
   "cell_type": "code",
   "execution_count": 12,
   "id": "930439d3",
   "metadata": {},
   "outputs": [
    {
     "name": "stdout",
     "output_type": "stream",
     "text": [
      "id=1 name='Maxwell' department='IT' salary=50000.0 is_active=True\n"
     ]
    }
   ],
   "source": [
    "emp1=Employee(id=1, name='Maxwell', department='IT', salary=50000)\n",
    "print(emp1)"
   ]
  },
  {
   "cell_type": "markdown",
   "id": "e937c12b",
   "metadata": {},
   "source": [
    "Definition:\n",
    "   * Optional[type]: Indicates the field can be None\n",
    "   * Default value(= None or = True): Makes the field optional\n",
    "   * Required fields must still be provided\n",
    "   * Pydantic validates types even for optional fields when values are provided\n"
   ]
  },
  {
   "cell_type": "code",
   "execution_count": 14,
   "id": "ae119f24",
   "metadata": {},
   "outputs": [
    {
     "name": "stdout",
     "output_type": "stream",
     "text": [
      "id=3 name='Frank' department='Accounting' salary=60000.0 is_active=False\n"
     ]
    }
   ],
   "source": [
    "emp3=Employee(id=3, name='Frank', department='Accounting', salary=60000, is_active=0)\n",
    "print(emp3)"
   ]
  },
  {
   "cell_type": "code",
   "execution_count": 15,
   "id": "4f228c84",
   "metadata": {},
   "outputs": [],
   "source": [
    "from typing import List\n",
    "\n",
    "class Classroom(BaseModel):\n",
    "    room_number: str\n",
    "    students: List[str] #List of strings\n",
    "    capacity: int"
   ]
  },
  {
   "cell_type": "code",
   "execution_count": 18,
   "id": "f7e8591c",
   "metadata": {},
   "outputs": [
    {
     "name": "stdout",
     "output_type": "stream",
     "text": [
      "room_number='A101' students=['Alice', 'Bob', 'Charlie'] capacity=30\n"
     ]
    }
   ],
   "source": [
    "# Create a classroom\n",
    "classroom = Classroom(room_number='A101', students=('Alice', 'Bob', 'Charlie'), capacity=30)\n",
    "print(classroom)"
   ]
  },
  {
   "cell_type": "code",
   "execution_count": 19,
   "id": "08689415",
   "metadata": {},
   "outputs": [
    {
     "name": "stdout",
     "output_type": "stream",
     "text": [
      "Validation error: 1 validation error for Classroom\n",
      "capacity\n",
      "  Input should be a valid integer, unable to parse string as an integer [type=int_parsing, input_value='thirty', input_type=str]\n",
      "    For further information visit https://errors.pydantic.dev/2.11/v/int_parsing\n"
     ]
    }
   ],
   "source": [
    "try:\n",
    "    invalid_val = Classroom(room_number='A101', students=['Alice', 'Bob', 'Charlie'], capacity='thirty')\n",
    "\n",
    "except ValueError as e:\n",
    "    print(f\"Validation error: {e}\")\n",
    "\n"
   ]
  },
  {
   "cell_type": "markdown",
   "id": "4b7e5959",
   "metadata": {},
   "source": [
    "# 3. Model with Nested Models\n",
    "\n",
    "Create complex structures with nested models:\n"
   ]
  },
  {
   "cell_type": "code",
   "execution_count": 28,
   "id": "f5b44301",
   "metadata": {},
   "outputs": [],
   "source": [
    "from pydantic import BaseModel\n",
    "\n",
    "class Address(BaseModel):\n",
    "    street: str\n",
    "    city: str\n",
    "    zip_code: str\n",
    "\n",
    "class Customer(BaseModel):\n",
    "    customer_id: int\n",
    "    name: str\n",
    "    address: Address"
   ]
  },
  {
   "cell_type": "code",
   "execution_count": 31,
   "id": "cad90f6d",
   "metadata": {},
   "outputs": [
    {
     "name": "stdout",
     "output_type": "stream",
     "text": [
      "customer_id=1 name='John Doe' address=Address(street='123 Main St', city='New York', zip_code='10001')\n"
     ]
    }
   ],
   "source": [
    "customer = Customer(\n",
    "    customer_id=1,\n",
    "    name='John Doe',\n",
    "    address={\n",
    "        'street':'123 Main St',\n",
    "        'city':'New York',\n",
    "        'zip_code':'10001'\n",
    "    }\n",
    ")\n",
    "\n",
    "print(customer)"
   ]
  },
  {
   "cell_type": "markdown",
   "id": "cd95b606",
   "metadata": {},
   "source": [
    "## Pydantic Fields: Customization and Contraints\n",
    "\n",
    "The Field function in Pydantic enhances model fields beyond basic type hints by allowing you to specify validatoin rules, default values, aliases, and more.  Here's a comprehensive tutorial with examples."
   ]
  },
  {
   "cell_type": "code",
   "execution_count": 34,
   "id": "326e84c5",
   "metadata": {},
   "outputs": [
    {
     "name": "stdout",
     "output_type": "stream",
     "text": [
      "name='Book' price=10.0 quantity=10\n"
     ]
    }
   ],
   "source": [
    "from pydantic import BaseModel, Field\n",
    "\n",
    "class Item(BaseModel):\n",
    "    name: str = Field(min_length=2, max_length=50, description=\"The name must be between 2 and 50 characters\")\n",
    "    price: float = Field(gt=0, le=10000, description=\"The price must be greater than 0\")\n",
    "    quantity:int = Field(ge=0)\n",
    "\n",
    "item=Item(name=\"Book\", price=10, quantity= 10)\n",
    "print(item)"
   ]
  },
  {
   "cell_type": "code",
   "execution_count": null,
   "id": "0977f788",
   "metadata": {},
   "outputs": [],
   "source": [
    "from pydantic import BaseModel, Field\n",
    "from datetime import date\n",
    "\n",
    "class EmployeeCertificate(BaseModel):\n",
    "    employee_id: int\n",
    "    course_id: str\n",
    "    certificate_name: str\n",
    "    issue_date: date\n",
    "    expiry_date: date = Field()"
   ]
  },
  {
   "cell_type": "code",
   "execution_count": 35,
   "id": "a94bd365",
   "metadata": {},
   "outputs": [
    {
     "name": "stdout",
     "output_type": "stream",
     "text": [
      "username='alice' age=18 email='user@example.com'\n"
     ]
    }
   ],
   "source": [
    "class User(BaseModel):\n",
    "    username:str=Field(description=\"Unique username for the user\")\n",
    "    age:int=Field(default=18,description=\"User age default to 18\")\n",
    "    email:str=Field(default_factory=lambda: \"user@example.com\", description=\"Default email address\")\n",
    "\n",
    "# Examples\n",
    "user1 = User(username=\"alice\")\n",
    "print(user1)\n",
    "\n"
   ]
  },
  {
   "cell_type": "code",
   "execution_count": 36,
   "id": "76f72013",
   "metadata": {},
   "outputs": [
    {
     "name": "stdout",
     "output_type": "stream",
     "text": [
      "username='bob' age=25 email='bob@domain.com'\n"
     ]
    }
   ],
   "source": [
    "user2 = User(username=\"bob\", age=25, email=\"bob@domain.com\")\n",
    "print(user2)"
   ]
  },
  {
   "cell_type": "code",
   "execution_count": 40,
   "id": "4d6127ac",
   "metadata": {},
   "outputs": [
    {
     "data": {
      "text/plain": [
       "{'properties': {'username': {'description': 'Unique username for the user',\n",
       "   'title': 'Username',\n",
       "   'type': 'string'},\n",
       "  'age': {'default': 18,\n",
       "   'description': 'User age default to 18',\n",
       "   'title': 'Age',\n",
       "   'type': 'integer'},\n",
       "  'email': {'description': 'Default email address',\n",
       "   'title': 'Email',\n",
       "   'type': 'string'}},\n",
       " 'required': ['username'],\n",
       " 'title': 'User',\n",
       " 'type': 'object'}"
      ]
     },
     "execution_count": 40,
     "metadata": {},
     "output_type": "execute_result"
    }
   ],
   "source": [
    "User.model_json_schema()"
   ]
  },
  {
   "cell_type": "code",
   "execution_count": null,
   "id": "7b3b4181",
   "metadata": {},
   "outputs": [],
   "source": []
  }
 ],
 "metadata": {
  "kernelspec": {
   "display_name": "Python (Agentic Batch)",
   "language": "python",
   "name": "agenticbatch2"
  },
  "language_info": {
   "codemirror_mode": {
    "name": "ipython",
    "version": 3
   },
   "file_extension": ".py",
   "mimetype": "text/x-python",
   "name": "python",
   "nbconvert_exporter": "python",
   "pygments_lexer": "ipython3",
   "version": "3.12.10"
  }
 },
 "nbformat": 4,
 "nbformat_minor": 5
}
